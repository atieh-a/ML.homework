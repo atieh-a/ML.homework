{
 "cells": [
  {
   "cell_type": "code",
   "execution_count": 1,
   "id": "26fa3f0c",
   "metadata": {},
   "outputs": [],
   "source": [
    "import numpy as np\n",
    "import pandas as pd\n",
    "from sklearn import linear_model\n",
    "from sklearn.linear_model import LinearRegression\n",
    "from sklearn.preprocessing import StandardScaler\n",
    "from sklearn.model_selection import train_test_split, RepeatedKFold, cross_val_score\n",
    "import statsmodels.formula.api as smf\n",
    "from sklearn.linear_model import Ridge, RidgeCV, Lasso, LassoCV\n",
    "import joblib\n",
    "import sys\n",
    "sys.modules['sklearn.externals.joblib'] = joblib\n",
    "#!pip install mlxtend==0.19.0\n",
    "from mlxtend.feature_selection import SequentialFeatureSelector as sfs\n",
    "import statsmodels.api as sm\n",
    "from sklearn.metrics import mean_squared_error\n",
    "import matplotlib.pyplot as plt\n",
    "import seaborn as sns\n",
    "from rpy2.robjects.packages import importr\n",
    "import rpy2.robjects as robjects\n",
    "#!pip install pygam\n",
    "from pygam import GAM, s, te\n",
    "from sklearn.decomposition import PCA\n",
    "from sklearn.cross_decomposition import PLSRegression\n",
    "from sklearn.pipeline import Pipeline"
   ]
  },
  {
   "cell_type": "code",
   "execution_count": 3,
   "id": "01a5ef51",
   "metadata": {},
   "outputs": [
    {
     "data": {
      "text/html": [
       "<div>\n",
       "<style scoped>\n",
       "    .dataframe tbody tr th:only-of-type {\n",
       "        vertical-align: middle;\n",
       "    }\n",
       "\n",
       "    .dataframe tbody tr th {\n",
       "        vertical-align: top;\n",
       "    }\n",
       "\n",
       "    .dataframe thead th {\n",
       "        text-align: right;\n",
       "    }\n",
       "</style>\n",
       "<table border=\"1\" class=\"dataframe\">\n",
       "  <thead>\n",
       "    <tr style=\"text-align: right;\">\n",
       "      <th></th>\n",
       "      <th>Ozone</th>\n",
       "      <th>Solar.R</th>\n",
       "      <th>Wind</th>\n",
       "      <th>Temp</th>\n",
       "    </tr>\n",
       "  </thead>\n",
       "  <tbody>\n",
       "    <tr>\n",
       "      <th>0</th>\n",
       "      <td>41.0</td>\n",
       "      <td>190.0</td>\n",
       "      <td>7.4</td>\n",
       "      <td>67</td>\n",
       "    </tr>\n",
       "    <tr>\n",
       "      <th>1</th>\n",
       "      <td>36.0</td>\n",
       "      <td>118.0</td>\n",
       "      <td>8.0</td>\n",
       "      <td>72</td>\n",
       "    </tr>\n",
       "    <tr>\n",
       "      <th>2</th>\n",
       "      <td>12.0</td>\n",
       "      <td>149.0</td>\n",
       "      <td>12.6</td>\n",
       "      <td>74</td>\n",
       "    </tr>\n",
       "    <tr>\n",
       "      <th>3</th>\n",
       "      <td>18.0</td>\n",
       "      <td>313.0</td>\n",
       "      <td>11.5</td>\n",
       "      <td>62</td>\n",
       "    </tr>\n",
       "    <tr>\n",
       "      <th>6</th>\n",
       "      <td>23.0</td>\n",
       "      <td>299.0</td>\n",
       "      <td>8.6</td>\n",
       "      <td>65</td>\n",
       "    </tr>\n",
       "  </tbody>\n",
       "</table>\n",
       "</div>"
      ],
      "text/plain": [
       "   Ozone  Solar.R  Wind  Temp\n",
       "0   41.0    190.0   7.4    67\n",
       "1   36.0    118.0   8.0    72\n",
       "2   12.0    149.0  12.6    74\n",
       "3   18.0    313.0  11.5    62\n",
       "6   23.0    299.0   8.6    65"
      ]
     },
     "execution_count": 3,
     "metadata": {},
     "output_type": "execute_result"
    }
   ],
   "source": [
    "airquality=pd.read_csv(\"C:/Users/arab/Downloads/airquality.csv\")\n",
    "airquality=airquality[['Ozone','Solar.R','Wind','Temp']]\n",
    "airquality=airquality.dropna()\n",
    "airquality.head()"
   ]
  },
  {
   "cell_type": "code",
   "execution_count": 4,
   "id": "dbddd1ab",
   "metadata": {},
   "outputs": [
    {
     "data": {
      "text/html": [
       "<div>\n",
       "<style scoped>\n",
       "    .dataframe tbody tr th:only-of-type {\n",
       "        vertical-align: middle;\n",
       "    }\n",
       "\n",
       "    .dataframe tbody tr th {\n",
       "        vertical-align: top;\n",
       "    }\n",
       "\n",
       "    .dataframe thead th {\n",
       "        text-align: right;\n",
       "    }\n",
       "</style>\n",
       "<table border=\"1\" class=\"dataframe\">\n",
       "  <thead>\n",
       "    <tr style=\"text-align: right;\">\n",
       "      <th></th>\n",
       "      <th>Ozone</th>\n",
       "      <th>Solar.R</th>\n",
       "      <th>Wind</th>\n",
       "      <th>Temp</th>\n",
       "      <th>TWcp</th>\n",
       "      <th>TWrat</th>\n",
       "    </tr>\n",
       "  </thead>\n",
       "  <tbody>\n",
       "    <tr>\n",
       "      <th>0</th>\n",
       "      <td>41.0</td>\n",
       "      <td>190.0</td>\n",
       "      <td>7.4</td>\n",
       "      <td>67</td>\n",
       "      <td>495.8</td>\n",
       "      <td>9.054054</td>\n",
       "    </tr>\n",
       "    <tr>\n",
       "      <th>1</th>\n",
       "      <td>36.0</td>\n",
       "      <td>118.0</td>\n",
       "      <td>8.0</td>\n",
       "      <td>72</td>\n",
       "      <td>576.0</td>\n",
       "      <td>9.000000</td>\n",
       "    </tr>\n",
       "    <tr>\n",
       "      <th>2</th>\n",
       "      <td>12.0</td>\n",
       "      <td>149.0</td>\n",
       "      <td>12.6</td>\n",
       "      <td>74</td>\n",
       "      <td>932.4</td>\n",
       "      <td>5.873016</td>\n",
       "    </tr>\n",
       "    <tr>\n",
       "      <th>3</th>\n",
       "      <td>18.0</td>\n",
       "      <td>313.0</td>\n",
       "      <td>11.5</td>\n",
       "      <td>62</td>\n",
       "      <td>713.0</td>\n",
       "      <td>5.391304</td>\n",
       "    </tr>\n",
       "    <tr>\n",
       "      <th>6</th>\n",
       "      <td>23.0</td>\n",
       "      <td>299.0</td>\n",
       "      <td>8.6</td>\n",
       "      <td>65</td>\n",
       "      <td>559.0</td>\n",
       "      <td>7.558140</td>\n",
       "    </tr>\n",
       "  </tbody>\n",
       "</table>\n",
       "</div>"
      ],
      "text/plain": [
       "   Ozone  Solar.R  Wind  Temp   TWcp     TWrat\n",
       "0   41.0    190.0   7.4    67  495.8  9.054054\n",
       "1   36.0    118.0   8.0    72  576.0  9.000000\n",
       "2   12.0    149.0  12.6    74  932.4  5.873016\n",
       "3   18.0    313.0  11.5    62  713.0  5.391304\n",
       "6   23.0    299.0   8.6    65  559.0  7.558140"
      ]
     },
     "execution_count": 4,
     "metadata": {},
     "output_type": "execute_result"
    }
   ],
   "source": [
    "airquality['TWcp']=airquality['Temp']*airquality['Wind']\n",
    "airquality['TWrat']=airquality['Temp']/airquality['Wind']\n",
    "airquality.head()"
   ]
  },
  {
   "cell_type": "code",
   "execution_count": 5,
   "id": "7fe11e0e",
   "metadata": {},
   "outputs": [],
   "source": [
    "X=airquality[['Solar.R','Temp', 'Wind','TWcp','TWrat']]\n",
    "y=airquality[['Ozone']]\n",
    "gam=GAM(s(0)+s(1)+s(2)+s(3)+s(4)).fit(X,y)"
   ]
  },
  {
   "cell_type": "code",
   "execution_count": 6,
   "id": "d028a2bb",
   "metadata": {},
   "outputs": [
    {
     "name": "stderr",
     "output_type": "stream",
     "text": [
      "100% (100 of 100) |######################| Elapsed Time: 0:00:04 Time:  0:00:04\n"
     ]
    },
    {
     "name": "stdout",
     "output_type": "stream",
     "text": [
      "GAM                                                                                                       \n",
      "=============================================== ==========================================================\n",
      "Distribution:                        NormalDist Effective DoF:                                     23.7254\n",
      "Link Function:                     IdentityLink Log Likelihood:                                  -689.8064\n",
      "Number of Samples:                          111 AIC:                                             1429.0636\n",
      "                                                AICc:                                            1443.9817\n",
      "                                                GCV:                                              318.7047\n",
      "                                                Scale:                                            199.0505\n",
      "                                                Pseudo R-Squared:                                   0.8574\n",
      "==========================================================================================================\n",
      "Feature Function                  Lambda               Rank         EDoF         P > x        Sig. Code   \n",
      "================================= ==================== ============ ============ ============ ============\n",
      "s(0)                              [4.3434]             20           8.8          3.28e-02     *           \n",
      "s(1)                              [4.3434]             20           7.1          1.11e-09     ***         \n",
      "s(2)                              [4.3434]             20           6.2          1.76e-13     ***         \n",
      "s(3)                              [4.3434]             20           1.6          1.89e-14     ***         \n",
      "s(4)                              [4.3434]             20           0.0          1.11e-16     ***         \n",
      "intercept                                              1            0.0          4.47e-12     ***         \n",
      "==========================================================================================================\n",
      "Significance codes:  0 '***' 0.001 '**' 0.01 '*' 0.05 '.' 0.1 ' ' 1\n",
      "\n",
      "WARNING: Fitting splines and a linear function to a feature introduces a model identifiability problem\n",
      "         which can cause p-values to appear significant when they are not.\n",
      "\n",
      "WARNING: p-values calculated in this manner behave correctly for un-penalized models or models with\n",
      "         known smoothing parameters, but when smoothing parameters have been estimated, the p-values\n",
      "         are typically lower than they should be, meaning that the tests reject the null too readily.\n"
     ]
    },
    {
     "name": "stderr",
     "output_type": "stream",
     "text": [
      "C:\\Users\\arab\\AppData\\Local\\Temp/ipykernel_1304/1364313868.py:3: UserWarning: KNOWN BUG: p-values computed in this summary are likely much smaller than they should be. \n",
      " \n",
      "Please do not make inferences based on these values! \n",
      "\n",
      "Collaborate on a solution, and stay up to date at: \n",
      "github.com/dswah/pyGAM/issues/163 \n",
      "\n",
      "  gam.summary()\n"
     ]
    }
   ],
   "source": [
    "gam=GAM(s(0)+s(1)+s(2)+s(3)+s(4)).fit(X,y)\n",
    "gam.gridsearch(X=X, y=y, lam=np.linspace(0, 10, 100), return_scores=True)\n",
    "gam.summary()"
   ]
  },
  {
   "cell_type": "code",
   "execution_count": 9,
   "id": "c1b5017f",
   "metadata": {},
   "outputs": [
    {
     "data": {
      "text/html": [
       "<div>\n",
       "<style scoped>\n",
       "    .dataframe tbody tr th:only-of-type {\n",
       "        vertical-align: middle;\n",
       "    }\n",
       "\n",
       "    .dataframe tbody tr th {\n",
       "        vertical-align: top;\n",
       "    }\n",
       "\n",
       "    .dataframe thead th {\n",
       "        text-align: right;\n",
       "    }\n",
       "</style>\n",
       "<table border=\"1\" class=\"dataframe\">\n",
       "  <thead>\n",
       "    <tr style=\"text-align: right;\">\n",
       "      <th></th>\n",
       "      <th>Ozone</th>\n",
       "      <th>Solar.R</th>\n",
       "      <th>Wind</th>\n",
       "      <th>Temp</th>\n",
       "      <th>TWcp</th>\n",
       "      <th>TWrat</th>\n",
       "      <th>CV</th>\n",
       "    </tr>\n",
       "  </thead>\n",
       "  <tbody>\n",
       "    <tr>\n",
       "      <th>0</th>\n",
       "      <td>41.0</td>\n",
       "      <td>190.0</td>\n",
       "      <td>7.4</td>\n",
       "      <td>67</td>\n",
       "      <td>495.8</td>\n",
       "      <td>9.054054</td>\n",
       "      <td>5</td>\n",
       "    </tr>\n",
       "    <tr>\n",
       "      <th>1</th>\n",
       "      <td>36.0</td>\n",
       "      <td>118.0</td>\n",
       "      <td>8.0</td>\n",
       "      <td>72</td>\n",
       "      <td>576.0</td>\n",
       "      <td>9.000000</td>\n",
       "      <td>9</td>\n",
       "    </tr>\n",
       "    <tr>\n",
       "      <th>2</th>\n",
       "      <td>12.0</td>\n",
       "      <td>149.0</td>\n",
       "      <td>12.6</td>\n",
       "      <td>74</td>\n",
       "      <td>932.4</td>\n",
       "      <td>5.873016</td>\n",
       "      <td>9</td>\n",
       "    </tr>\n",
       "    <tr>\n",
       "      <th>3</th>\n",
       "      <td>18.0</td>\n",
       "      <td>313.0</td>\n",
       "      <td>11.5</td>\n",
       "      <td>62</td>\n",
       "      <td>713.0</td>\n",
       "      <td>5.391304</td>\n",
       "      <td>2</td>\n",
       "    </tr>\n",
       "    <tr>\n",
       "      <th>6</th>\n",
       "      <td>23.0</td>\n",
       "      <td>299.0</td>\n",
       "      <td>8.6</td>\n",
       "      <td>65</td>\n",
       "      <td>559.0</td>\n",
       "      <td>7.558140</td>\n",
       "      <td>8</td>\n",
       "    </tr>\n",
       "  </tbody>\n",
       "</table>\n",
       "</div>"
      ],
      "text/plain": [
       "   Ozone  Solar.R  Wind  Temp   TWcp     TWrat  CV\n",
       "0   41.0    190.0   7.4    67  495.8  9.054054   5\n",
       "1   36.0    118.0   8.0    72  576.0  9.000000   9\n",
       "2   12.0    149.0  12.6    74  932.4  5.873016   9\n",
       "3   18.0    313.0  11.5    62  713.0  5.391304   2\n",
       "6   23.0    299.0   8.6    65  559.0  7.558140   8"
      ]
     },
     "execution_count": 9,
     "metadata": {},
     "output_type": "execute_result"
    }
   ],
   "source": [
    "CV10 = RepeatedKFold(n_splits=10, n_repeats=1, random_state=2928893)\n",
    "airquality['CV'] = np.random.randint(low=0, high=10, size=(airquality.shape[0],))\n",
    "airquality.head()"
   ]
  },
  {
   "cell_type": "code",
   "execution_count": 14,
   "id": "6e8ad6a5",
   "metadata": {},
   "outputs": [
    {
     "name": "stderr",
     "output_type": "stream",
     "text": [
      "100% (20 of 20) |########################| Elapsed Time: 0:00:00 Time:  0:00:00\n",
      "100% (20 of 20) |########################| Elapsed Time: 0:00:00 Time:  0:00:00\n",
      "100% (20 of 20) |########################| Elapsed Time: 0:00:00 Time:  0:00:00\n",
      "100% (20 of 20) |########################| Elapsed Time: 0:00:00 Time:  0:00:00\n",
      "100% (20 of 20) |########################| Elapsed Time: 0:00:00 Time:  0:00:00\n",
      "100% (20 of 20) |########################| Elapsed Time: 0:00:00 Time:  0:00:00\n",
      "100% (20 of 20) |########################| Elapsed Time: 0:00:00 Time:  0:00:00\n",
      "100% (20 of 20) |########################| Elapsed Time: 0:00:00 Time:  0:00:00\n",
      "100% (20 of 20) |########################| Elapsed Time: 0:00:00 Time:  0:00:00\n",
      "100% (20 of 20) |########################| Elapsed Time: 0:00:00 Time:  0:00:00\n"
     ]
    },
    {
     "name": "stdout",
     "output_type": "stream",
     "text": [
      "[327.7391679796945, 2625.34922524561, 313.2418246988366, 334.318076166133, 536.3228864387787, 207.90133435341957, 1087.015659956237, 344.70756143118274, 170.84748617998437, 269.07276351410195]\n",
      "[327.7391679796945, 2625.34922524561, 313.2418246988366, 334.318076166133, 536.3228864387787, 207.90133435341957, 1087.015659956237, 344.70756143118274, 170.84748617998437, 269.07276351410195]\n",
      "[380.09787935513316, 2203.688114799476, 369.55928001478514, 324.878197113733, 578.0310550351605, 193.59133954669142, 997.3674617552582, 334.2546014705165, 173.19124202608583, 293.9977348343407]\n",
      "[360.21861346179503, 2136.4095136905157, 386.2926436254579, 345.90848804753546, 595.7984996521466, 182.8945103986827, 944.7914040633253, 345.10001242132967, 159.8699699330855, 308.1689535152094]\n",
      "[136.55574130688493, 7408.477418791793, 208.79694800489565, 312.06268572119365, 466.7618607271437, 103.07560998713615, 501.6286674207101, 265.30896323552065, 142.52854164126214, 265.70675759956606]\n"
     ]
    }
   ],
   "source": [
    "random_state=2928893\n",
    "LS_MSPE=[]\n",
    "Stepwize_MSPE= []\n",
    "Ridge_MSPE = []\n",
    "LASSO_MSPE = []\n",
    "GAM_MSPE = []\n",
    "\n",
    "for i in range(10):\n",
    "    airquality_train = airquality.loc[airquality['CV'] != i]\n",
    "    airquality_test = airquality.loc[airquality['CV'] == i]\n",
    "\n",
    "    y_train = airquality_train['Ozone']\n",
    "    X_train = airquality_train.drop(['Ozone','CV'],axis=1)\n",
    "    y_test = airquality_test['Ozone']\n",
    "    X_test = airquality_test.drop(['Ozone','CV'],axis=1)\n",
    "   \n",
    "    StdScaler = StandardScaler().fit(X_train)\n",
    "    X_train_std = StdScaler.transform(X_train)\n",
    "    X_test_std = StdScaler.transform(X_test)\n",
    " \n",
    "  #LS\n",
    "    MLReg = LinearRegression()\n",
    "    MLReg.fit(X_train,y_train)\n",
    "    LS_MSPE.append(mean_squared_error(y_test, MLReg.predict(X_test)))  \n",
    "    \n",
    "  # stepwise\n",
    "    MLReg = LinearRegression()\n",
    "    sfs4 = sfs(MLReg, k_features=5, floating=True, verbose=0, scoring='neg_mean_squared_error')\n",
    "    sfs4.fit(X_train,y_train)\n",
    "    X_train_sfs4 = sfs4.transform(X_train)\n",
    "    X_test_sfs4 = sfs4.transform(X_test)\n",
    "    MLReg.fit(X_train_sfs4, y_train)\n",
    "    Stepwize_MSPE.append(mean_squared_error(y_test, MLReg.predict(X_test_sfs4)))\n",
    "\n",
    "  # Ridge\n",
    "    LMRidgeCV = RidgeCV(alphas=np.arange(0.5, 10, 0.01), cv=CV10, scoring='neg_mean_squared_error')\n",
    "    LMRidgeCV.fit(X_train_std, y_train)\n",
    "    LMRidge = Ridge(alpha = LMRidgeCV.alpha_)\n",
    "    LMRidge.fit(X_train_std, y_train)\n",
    "    Ridge_MSPE.append(mean_squared_error(y_test, LMRidge.predict(X_test_std)))\n",
    "\n",
    "  # LASSO\n",
    "    LMLassoCV = LassoCV(alphas = np.arange(0.5, 2, 0.01), cv = CV10)\n",
    "    LMLassoCV.fit(X_train_std, y_train)\n",
    "    LMLasso = Lasso()\n",
    "    LMLasso.set_params(alpha=LMLassoCV.alpha_)\n",
    "    LMLasso.fit(X_train_std, y_train)\n",
    "    LASSO_MSPE.append(mean_squared_error(y_test, LMLasso.predict(X_test_std)))\n",
    "    \n",
    "  # GAM\n",
    "    gam = GAM(s(0)+s(1)+s(2)+s(3)+s(4)).fit(X_train, y_train)\n",
    "    gam.gridsearch(X=X_train, y=y_train, lam=np.linspace(3, 5, 20))\n",
    "    GAM_MSPE.append(mean_squared_error(y_test, gam.predict(X_test)))\n",
    "\n",
    "print(LS_MSPE)\n",
    "print(Stepwize_MSPE)\n",
    "print(Ridge_MSPE)\n",
    "print(LASSO_MSPE)\n",
    "print(GAM_MSPE)"
   ]
  },
  {
   "cell_type": "code",
   "execution_count": 12,
   "id": "ca9696ca",
   "metadata": {},
   "outputs": [
    {
     "name": "stdout",
     "output_type": "stream",
     "text": [
      "   id Model         MSPE\n",
      "0   0    LS   327.739168\n",
      "1   1    LS  2625.349225\n",
      "2   2    LS   313.241825\n",
      "3   3    LS   334.318076\n",
      "4   4    LS   536.322886\n"
     ]
    },
    {
     "data": {
      "text/plain": [
       "<AxesSubplot:xlabel='Model', ylabel='MSPE'>"
      ]
     },
     "execution_count": 12,
     "metadata": {},
     "output_type": "execute_result"
    },
    {
     "data": {
      "image/png": "[encoded data removed]",
      "text/plain": [
       "<Figure size 432x288 with 1 Axes>"
      ]
     },
     "metadata": {
      "needs_background": "light"
     },
     "output_type": "display_data"
    }
   ],
   "source": [
    "MSPEs=pd.DataFrame({'LS':LS_MSPE,\n",
    "                    'Stepwize':Stepwize_MSPE,\n",
    "                    'LASSO':LASSO_MSPE,\n",
    "                    'RIDGE':Ridge_MSPE,\n",
    "                    'GAM':GAM_MSPE})\n",
    "MSPEs[\"id\"] = MSPEs.index\n",
    "MSPEs_long = pd.melt(MSPEs, id_vars='id',\n",
    "                     var_name = 'Model',\n",
    "                     value_name = 'MSPE',\n",
    "                     value_vars=['LS','Stepwize','LASSO','RIDGE','GAM'])\n",
    "print(MSPEs_long.head())\n",
    "sns.boxplot(y=\"MSPE\", x=\"Model\", orient=\"v\", data=MSPEs_long)"
   ]
  },
  {
   "cell_type": "code",
   "execution_count": 13,
   "id": "5fd4c259",
   "metadata": {},
   "outputs": [
    {
     "data": {
      "text/plain": [
       "<AxesSubplot:xlabel='Model', ylabel='RMSPE'>"
      ]
     },
     "execution_count": 13,
     "metadata": {},
     "output_type": "execute_result"
    },
    {
     "data": {
      "image/png": "[encoded data removed]",
      "text/plain": [
       "<Figure size 432x288 with 1 Axes>"
      ]
     },
     "metadata": {
      "needs_background": "light"
     },
     "output_type": "display_data"
    }
   ],
   "source": [
    "MSPEs = MSPEs.drop('id', axis=1)\n",
    "RMSPEs = MSPEs.div(MSPEs.min(axis=1), axis=0)\n",
    "RMSPEs[\"id\"] = RMSPEs.index\n",
    "RMSPEs_long = pd.melt(RMSPEs, id_vars='id',\n",
    "                     var_name = 'Model',\n",
    "                     value_name = 'RMSPE',\n",
    "                     value_vars=['LS','Stepwize','LASSO','RIDGE','GAM'])\n",
    "sns.boxplot(y=\"RMSPE\", x=\"Model\", orient=\"v\", data=RMSPEs_long)"
   ]
  },
  {
   "cell_type": "code",
   "execution_count": null,
   "id": "42a3fa87",
   "metadata": {},
   "outputs": [],
   "source": []
  }
 ],
 "metadata": {
  "kernelspec": {
   "display_name": "Python 3 (ipykernel)",
   "language": "python",
   "name": "python3"
  },
  "language_info": {
   "codemirror_mode": {
    "name": "ipython",
    "version": 3
   },
   "file_extension": ".py",
   "mimetype": "text/x-python",
   "name": "python",
   "nbconvert_exporter": "python",
   "pygments_lexer": "ipython3",
   "version": "3.8.10"
  }
 },
 "nbformat": 4,
 "nbformat_minor": 5
}
